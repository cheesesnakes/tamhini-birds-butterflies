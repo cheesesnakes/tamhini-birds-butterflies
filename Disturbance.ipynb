{
 "cells": [
  {
   "cell_type": "markdown",
   "metadata": {},
   "source": [
    "# Shifts in bird an butterfly communities of Tamhini WLS"
   ]
  },
  {
   "cell_type": "markdown",
   "metadata": {},
   "source": [
    "# Distubance analysis"
   ]
  },
  {
   "cell_type": "code",
   "execution_count": null,
   "metadata": {},
   "outputs": [],
   "source": [
    "# importing relevant libraries\n",
    "\n",
    "import ee\n",
    "import folium\n",
    "from IPython.display import Image\n",
    "\n",
    "# Initialising GEE connection\n",
    "\n",
    "ee.Initialize()"
   ]
  },
  {
   "cell_type": "code",
   "execution_count": null,
   "metadata": {},
   "outputs": [],
   "source": [
    "# Setting area of interest\n",
    "\n",
    "AOI = ee.Geometry.Rectangle([73.5,18.3,73.3,18.5])\n",
    "\n",
    "# Getting LANDSAT collection from GEE\n",
    "\n",
    "## 2016 - LANDSAT8 - Surface reflectance \n",
    "\n",
    "landsat_2016 = (ee.ImageCollection('LANDSAT/LC08/C01/T1_SR')\n",
    "            .filterDate('2016-04-01','2016-04-30') # Dates of Interest\n",
    "            .filterBounds(AOI))#area\n",
    "\n",
    "## 2000 - LANDSAT7 - Surface reflectance \n",
    "\n",
    "landsat_2000 = (ee.ImageCollection('LANDSAT/LE07/C01/T1_SR')\n",
    "            .filterDate('2001-04-01','2001-04-30') # Dates of Interest\n",
    "            .filterBounds(AOI))#area\n",
    "\n",
    "\n",
    "print('Total number:', NDVI_2016.size().getInfo())\n",
    "\n",
    "print('Total number:', NDVI_2000.size().getInfo())"
   ]
  },
  {
   "cell_type": "code",
   "execution_count": null,
   "metadata": {},
   "outputs": [],
   "source": [
    "parameters = {'min': 0,\n",
    "              'max': 1000,\n",
    "              'dimensions': 512,\n",
    "              'bands': ['B4', 'B3', 'B2'],\n",
    "              'region': AOI}\n",
    "\n",
    "mapid = landsat_2016.getMapId(parameters)\n",
    "\n",
    "map = folium.Map(location=[18.4,73.4],zoom_start=11, height=700,width=700)\n",
    "\n",
    "folium.TileLayer(\n",
    "    tiles=mapid['tile_fetcher'].url_format,\n",
    "    attr='Map Data &copy; <a href=\"https://earthengine.google.com/\">Google Earth Engine</a>',\n",
    "    overlay=True,\n",
    "    name='Landsat 8 ',\n",
    "  ).add_to(map)\n",
    "\n",
    "map.add_child(folium.LayerControl())\n",
    "map"
   ]
  },
  {
   "cell_type": "code",
   "execution_count": null,
   "metadata": {},
   "outputs": [],
   "source": [
    "LS7_params = {'min': 0,\n",
    "              'max': 3000,\n",
    "              'dimensions': 512,\n",
    "              'bands': ['B3', 'B2', 'B1'],\n",
    "              'region': AOI}\n",
    "\n",
    "mapid2000 = landsat_2000.getMapId(LS7_params)\n",
    "\n",
    "map = folium.Map(location=[18.4,73.4],zoom_start=11, height=700,width=700)\n",
    "\n",
    "folium.TileLayer(\n",
    "    tiles=mapid2000['tile_fetcher'].url_format,\n",
    "    attr='Map Data &copy; <a href=\"https://earthengine.google.com/\">Google Earth Engine</a>',\n",
    "    overlay=True,\n",
    "    name='Landsat 7 ',\n",
    "  ).add_to(map)\n",
    "\n",
    "map.add_child(folium.LayerControl())\n",
    "map"
   ]
  },
  {
   "cell_type": "code",
   "execution_count": null,
   "metadata": {},
   "outputs": [],
   "source": []
  },
  {
   "cell_type": "code",
   "execution_count": null,
   "metadata": {},
   "outputs": [],
   "source": []
  }
 ],
 "metadata": {
  "kernelspec": {
   "display_name": "Python 3",
   "language": "python",
   "name": "python3"
  },
  "language_info": {
   "codemirror_mode": {
    "name": "ipython",
    "version": 3
   },
   "file_extension": ".py",
   "mimetype": "text/x-python",
   "name": "python",
   "nbconvert_exporter": "python",
   "pygments_lexer": "ipython3",
   "version": "3.7.6"
  }
 },
 "nbformat": 4,
 "nbformat_minor": 4
}
